{
  "nbformat": 4,
  "nbformat_minor": 0,
  "metadata": {
    "colab": {
      "provenance": [],
      "authorship_tag": "ABX9TyOEGCQDi0TuT9r5S4JpYEqr",
      "include_colab_link": true
    },
    "kernelspec": {
      "name": "python3",
      "display_name": "Python 3"
    },
    "language_info": {
      "name": "python"
    }
  },
  "cells": [
    {
      "cell_type": "markdown",
      "metadata": {
        "id": "view-in-github",
        "colab_type": "text"
      },
      "source": [
        "<a href=\"https://colab.research.google.com/github/AlinaSabitova/Python_Programming/blob/main/%D0%9B%D0%B0%D0%B16.ipynb\" target=\"_parent\"><img src=\"https://colab.research.google.com/assets/colab-badge.svg\" alt=\"Open In Colab\"/></a>"
      ]
    },
    {
      "cell_type": "markdown",
      "source": [
        "Для задач 6.2.1-6.2.7 ответьте на следующие вопросы:\n",
        "\n",
        "Что выполняет приведенная функция?\n",
        "\n",
        "Какова вычислительная сложность алгоритма (наихудшая оценка, O-нотацию)?"
      ],
      "metadata": {
        "id": "hKiRoYv0ggeu"
      }
    },
    {
      "cell_type": "code",
      "execution_count": null,
      "metadata": {
        "id": "Ni89GcPmgcJ1"
      },
      "outputs": [],
      "source": [
        "# Задание task_06_02_01.\n",
        "\n",
        "def foo(a):\n",
        "    \"\"\"!!!\n",
        "\n",
        "    Сложность: O(N**2).\n",
        "    \"\"\"\n",
        "    for i in range(len(a), 0, -1):                #O(N)+O(1)=O(N)\n",
        "        for j in range(1, i):                     #O(N)\n",
        "            if a[j-1] > a[j]:                     #O(1)+O(1)=O(1)\n",
        "                a[j-1], a[j] = a[j], a[j-1]       #O(1)+O(1)=2*O(1)=O(1)\n",
        "    return a                                      #O(1)\n",
        "\n",
        "#O(N)*O(N)*O(1)=O(N**2)\n",
        "\n",
        "a = [1, 2, 3, 4, 2, 1, 3, 4, 3, 5, -2, -2, 2, -2, 65, 2, 2]\n",
        "foo(a)"
      ]
    },
    {
      "cell_type": "code",
      "source": [
        "# Задание task_06_02_02.\n",
        "\n",
        "def foo(i):\n",
        "  \"\"\"!!!\n",
        "\n",
        "    Параметры:\n",
        "        - i (int): число.\n",
        "\n",
        "    Сложность: O(N).\n",
        "    \"\"\"\n",
        "    digits = \"0123456789\"                     #O(1)\n",
        "    if i == 0:                                #O(1)+O(1)=2*O(1)=O(1)\n",
        "        return \"0\"                            #O(1)\n",
        "    result = \"\"                               #O(1)\n",
        "    while i > 0:                              #O(N)+O(1)=O(N)\n",
        "        result = digits[i%10] + result        #O(1)+O(1)+O(1)=3*O(1)=O(1)\n",
        "        i = i // 10                           #O(1)+O(1)=2*O(1)=O(1)\n",
        "    return result                             #O(1)\n",
        "#=O(1)+O(1)+O(N)*O(1)=2*O(1)+O(N)=O(N)"
      ],
      "metadata": {
        "id": "BNTOj7409xi2"
      },
      "execution_count": null,
      "outputs": []
    },
    {
      "cell_type": "code",
      "source": [
        "# Задание task_06_02_03.\n",
        "\n",
        "def foo(s):\n",
        "    \"\"\"!!!\n",
        "\n",
        "    Параметры:\n",
        "        - s (str): строка.\n",
        "\n",
        "    Сложность: O(N**2).\n",
        "    \"\"\"\n",
        "    val = 0                     #O(1)\n",
        "    for c in s:                 #O(N)\n",
        "        if c.isdigit():         #O(N)\n",
        "            val += int(c)       #O(1)+O(1)=2*O(1)=O(1)\n",
        "    return val                  #O(1)\n",
        "#O(1)+O(N)*O(N)*O(1)=O(N**2)"
      ],
      "metadata": {
        "id": "L9DzyWJ5-I0u"
      },
      "execution_count": null,
      "outputs": []
    },
    {
      "cell_type": "code",
      "source": [
        "# Задание task_06_02_04.\n",
        "\n",
        "def foo(n):\n",
        "    \"\"\"!!!\n",
        "\n",
        "    Параметры:\n",
        "        - n (int): число.\n",
        "\n",
        "    Сложность: O(N**2).\n",
        "    \"\"\"\n",
        "    res = []                                   #O(1)\n",
        "    for i in range(1, n + 1):                  #O(N)\n",
        "        divisors = 0                           #O(1)\n",
        "        j = 2                                  #O(1)\n",
        "        while j < i and divisors == 0:         #O(N)\n",
        "            if i % j == 0:                     #O(1)+O(1)=O(1)\n",
        "                divisors += 1                  #O(1)\n",
        "            j += 1                             #O(1)\n",
        "\n",
        "        if divisors == 0:                      #O(1)+O(1)=O(1)\n",
        "            res.append(i)                      #O(1)\n",
        "\n",
        "    return res                                 #O(1)\n",
        "#O(1)+O(N)*(O(N)+O(1))=O(1)+O(N)*O(N)=O(N**2)"
      ],
      "metadata": {
        "id": "DP1fHp7D-SoV"
      },
      "execution_count": 2,
      "outputs": []
    },
    {
      "cell_type": "code",
      "source": [
        "# Задание task_06_02_05.\n",
        "\n",
        "def foo(nums):\n",
        "    \"\"\"!!!\n",
        "\n",
        "    Параметры:\n",
        "        - nums (list): список.\n",
        "\n",
        "    Сложность: O(N).\n",
        "    \"\"\"\n",
        "    for x in nums:             #O(N)\n",
        "        if x % 2 == 0:         #O(1)+O(1)=2*O(1)=O(1)\n",
        "            return True        #O(1)\n",
        "        else:                  #O(1)\n",
        "            return False       #O(1)\n",
        "#O(N)*O(1)*O(1)=O(N)"
      ],
      "metadata": {
        "id": "QEsWHEfO-qJS"
      },
      "execution_count": null,
      "outputs": []
    },
    {
      "cell_type": "code",
      "source": [
        "# Задание task_06_02_06.\n",
        "\n",
        "def foo(nums):\n",
        "    \"\"\"!!!\n",
        "\n",
        "    Параметры:\n",
        "        - nums (list): список.\n",
        "\n",
        "    Сложность: O(1).\n",
        "    \"\"\"\n",
        "    return (nums[0] + nums[-1] ** 2)  #O(1)+O(1)=2*O(1)=O(1)\n",
        "#O(1)+O(1)=2*O(1)=O(1)"
      ],
      "metadata": {
        "id": "lCBsUzTl-xJG"
      },
      "execution_count": 3,
      "outputs": []
    },
    {
      "cell_type": "code",
      "source": [
        "# Задание task_06_02_07.\n",
        "\n",
        "low, high = 0, 100\n",
        "print(\"Пожалуйста, загадайте число от {0} до {1}!\".format(low, high))\n",
        "\n",
        "def foo(low, high):\n",
        "    \"\"\"!!!\n",
        "\n",
        "    Параметры:\n",
        "        - low (int): нижняя граница;\n",
        "        - high (int): верхняя граница.\n",
        "\n",
        "    Сложность: O(N).\n",
        "    \"\"\"\n",
        "    guessing = True                                       #O(1)                \n",
        "    while guessing:                                       #O(N)\n",
        "        guess = (low + high) // 2                         #O(1)+O(1)=2*O(1)=O(1)\n",
        "        print(\"Загаданное число {0}?\".format(guess))      \n",
        "        pointer = input(                                  \n",
        "            \"Введите '+', если Ваше число меньше.\\n\"\n",
        "            \"Введите '-' если Ваше число больше.\\n\"\n",
        "            \"Введите '=', если я угадал.\\n\").lower()      #O(1)\n",
        "        if pointer == \"+\":                                #O(1)+O(1)=2*O(1)=O(1)\n",
        "            high = guess                                  #O(1)\n",
        "        elif pointer == \"-\":                              #O(1)+O(1)=2*O(1)=O(1)\n",
        "            low = guess                                   #O(1)\n",
        "        elif pointer == \"=\":                              #O(1)+O(1)=2*O(1)=O(1)\n",
        "            guessing = False                              #O(1)\n",
        "        else:                                             #O(1)\n",
        "            print(\"Введите '+', '-' или '='.\")            \n",
        "\n",
        "    return guess                                          #O(1)\n",
        "    \n",
        "#O(1)+O(N)*6*O(1)=O(1)+O(N)=O(N)\n",
        "\n",
        "guess = foo(low, high)\n",
        "print(\"Игра окончена, Вы загадали число: {0}.\".format(guess))\n",
        "# ЗАКОММЕНТИРУЙТЕ этот код перед запуском проверки\n",
        "# low, high = 0, 100\n",
        "# print(\"Пожалуйста, загадайте число от {0} до {1}!\".format(low, high))\n",
        "# guess = foo(low, high)\n",
        "# print(\"Игра окончена, Вы загадали число: {0}.\".format(guess))"
      ],
      "metadata": {
        "id": "jCUQn2Jh-60e",
        "outputId": "509f7437-e773-4c7d-f130-d3625c012359",
        "colab": {
          "base_uri": "https://localhost:8080/"
        }
      },
      "execution_count": null,
      "outputs": [
        {
          "output_type": "stream",
          "name": "stdout",
          "text": [
            "Пожалуйста, загадайте число от 0 до 100!\n",
            "Загаданное число 50?\n",
            "Введите '+', если Ваше число меньше.\n",
            "Введите '-' если Ваше число больше.\n",
            "Введите '=', если я угадал.\n",
            "+\n",
            "Загаданное число 25?\n",
            "Введите '+', если Ваше число меньше.\n",
            "Введите '-' если Ваше число больше.\n",
            "Введите '=', если я угадал.\n",
            "+\n",
            "Загаданное число 12?\n",
            "Введите '+', если Ваше число меньше.\n",
            "Введите '-' если Ваше число больше.\n",
            "Введите '=', если я угадал.\n",
            "-\n",
            "Загаданное число 18?\n",
            "Введите '+', если Ваше число меньше.\n",
            "Введите '-' если Ваше число больше.\n",
            "Введите '=', если я угадал.\n",
            "+\n",
            "Загаданное число 15?\n",
            "Введите '+', если Ваше число меньше.\n",
            "Введите '-' если Ваше число больше.\n",
            "Введите '=', если я угадал.\n",
            "+\n",
            "Загаданное число 13?\n",
            "Введите '+', если Ваше число меньше.\n",
            "Введите '-' если Ваше число больше.\n",
            "Введите '=', если я угадал.\n",
            "=\n",
            "Игра окончена, Вы загадали число: 13.\n"
          ]
        }
      ]
    }
  ]
}