{
  "nbformat": 4,
  "nbformat_minor": 0,
  "metadata": {
    "colab": {
      "provenance": [],
      "authorship_tag": "ABX9TyPB7EwPvszrCpJ1xFDl/c8A",
      "include_colab_link": true
    },
    "kernelspec": {
      "name": "python3",
      "display_name": "Python 3"
    },
    "language_info": {
      "name": "python"
    }
  },
  "cells": [
    {
      "cell_type": "markdown",
      "metadata": {
        "id": "view-in-github",
        "colab_type": "text"
      },
      "source": [
        "<a href=\"https://colab.research.google.com/github/AlinaSabitova/Python_Programming/blob/main/%D0%A1%D0%B0%D0%B1%D0%B8%D1%82%D0%BE%D0%B2%D0%B0_%D0%9B%D0%B0%D0%B17.ipynb\" target=\"_parent\"><img src=\"https://colab.research.google.com/assets/colab-badge.svg\" alt=\"Open In Colab\"/></a>"
      ]
    },
    {
      "cell_type": "code",
      "execution_count": null,
      "metadata": {
        "id": "JBApl6obizHQ"
      },
      "outputs": [],
      "source": [
        "# Выполнил: Сабитова А.Б.\n",
        "# Группа: Адеу-221\n",
        "# E-mail: alisab1105@yandex.ru"
      ]
    },
    {
      "cell_type": "markdown",
      "source": [
        "Для задач 7.2.1-7.2.5 приведено условие задачи и ее решение (ошибочное).\n",
        "\n",
        "Для каждой задачи:\n",
        "\n",
        "используя визуальный просмотр кода, простое журналирование, проверку PEP8 или отладчик в IDE:\n",
        "\n",
        "разберитесь в алгоритме решения;\n",
        "\n",
        "найдите номера строк, в которых есть ошибки, и укажите их в строке документации;\n",
        "\n",
        "исправьте ошибки, минимально изменив код (как правило, заменив строчку на строчку); ошибки исправляются по ходу программы, сверху вниз."
      ],
      "metadata": {
        "id": "ltDzltkXjy4V"
      }
    },
    {
      "cell_type": "code",
      "source": [
        "# Задание task_07_02_01.\n",
        "\n",
        "\"\"\"\n",
        "Ошибки (номера строк через пробел, данная строка - №2): 11, 13, 15\n",
        "\"\"\"\n",
        "\n",
        "\n",
        "def sum_of_digits(n):\n",
        "    \"\"\"Вернуть сумму цифр меньших 5 для положительного целого числа `n`.\n",
        "    Если таких цифр нет, вернуть 0.\"\"\"\n",
        "    с = 0\n",
        "    while n > 0:\n",
        "        digit = n % 10   #чтобы последовательно проверить все цифры числа n, нужно возвращать остаток от деления, а не делить нацело\n",
        "        if digit < 5:\n",
        "           c += digit\n",
        "        n //= 10\n",
        "    return c  #был не тот уровень и выводилась не c (сумма цифр менших 5), а digits\n",
        "\n",
        "sum_of_digits(1464)"
      ],
      "metadata": {
        "id": "k-9EnUMni1Su"
      },
      "execution_count": null,
      "outputs": []
    },
    {
      "cell_type": "code",
      "source": [
        "# Задание task_07_02_02.\n",
        "\n",
        "\"\"\"\n",
        "Ошибки (номера строк через пробел, данная строка - №2): 10, 11, 14, 16, 17, 18\n",
        "\"\"\"\n",
        "\n",
        "\n",
        "def primes(a, b):\n",
        "    \"\"\"Вернуть список простых чисел на отрезке от 'a' до 'b'.\"\"\"\n",
        "    res = []\n",
        "    c = 0\n",
        "    for i in range(a, b+1):  #был диапазон от a до b, не включая b\n",
        "        for j in range(i+1): #был диапазон, не включавший в себя i\n",
        "            if i % (j + 1) == 0:\n",
        "                c += 1\n",
        "        if c == 2:   #был неверный уровень, из-за которого в список попадали лишние элементы\n",
        "              res.append(i)\n",
        "              с = 0\n",
        "        else:\n",
        "          c=0\n",
        "\n",
        "    return res\n",
        "\n",
        "primes(11,13)"
      ],
      "metadata": {
        "colab": {
          "base_uri": "https://localhost:8080/"
        },
        "id": "09sM8TVomOHD",
        "outputId": "67c8c624-183d-4918-8a0f-1c2984ecf488"
      },
      "execution_count": null,
      "outputs": [
        {
          "output_type": "execute_result",
          "data": {
            "text/plain": [
              "[11, 13]"
            ]
          },
          "metadata": {},
          "execution_count": 14
        }
      ]
    },
    {
      "cell_type": "code",
      "source": [
        "# Задание task_07_02_03.\n",
        "\n",
        "\"\"\"\n",
        "Ошибки (номера строк через пробел, данная строка - №2): !!!\n",
        "\"\"\"\n",
        "\n",
        "\n",
        "def first_vacant_row(seats):\n",
        "    \"\"\"Вернуть первый ряд, в котором имеется больше всего\n",
        "    свободных мест и их количество.\n",
        "\n",
        "    Возвращаемая нумерация рядов с 1. Если свободных мест нет, вернуть 0, 0.\n",
        "\n",
        "    Параметры:\n",
        "        - seats (list of list): информация о проданных билетах\n",
        "                                (1 - продано, 0 - нет).\n",
        "\n",
        "    Результат:\n",
        "        - tuple (ряд, количество мест).\n",
        "    \"\"\"\n",
        "    max_count = 0\n",
        "    max_row = 0\n",
        "    for row_index, row in enumerate(seats):\n",
        "        available_seats_count = row.count(0)  # 0 - пусто\n",
        "        if available_seats_count > max_count: \n",
        "            max_row = row_index + 1 #номер ряда должен увеличиваться после каждой итерации (если не найден первый ряд с большим кол-вом свободных мест)\n",
        "            max_count = available_seats_count\n",
        "\n",
        "    return max_row, max_count\n",
        "\n",
        "import random\n",
        "\n",
        "random.seed(50)\n",
        "\n",
        "ROWS_MAX = 10\n",
        "SEATS_MAX = 5\n",
        "\n",
        "seats = [[random.randint(0, 1) for seat in range(SEATS_MAX)]\n",
        "                               for row in range(ROWS_MAX)]\n",
        "\n",
        "for seat in seats:\n",
        "    print(seat)\n",
        "\n",
        "print(first_vacant_row(seats))"
      ],
      "metadata": {
        "colab": {
          "base_uri": "https://localhost:8080/"
        },
        "id": "hNFbUQmVq8hc",
        "outputId": "7b64bf5f-57bf-4bca-b6c2-6f5995e5225e"
      },
      "execution_count": null,
      "outputs": [
        {
          "output_type": "stream",
          "name": "stdout",
          "text": [
            "[1, 1, 1, 0, 1]\n",
            "[1, 0, 1, 0, 0]\n",
            "[0, 1, 0, 1, 1]\n",
            "[0, 0, 0, 1, 1]\n",
            "[0, 0, 1, 1, 0]\n",
            "[0, 1, 1, 1, 0]\n",
            "[0, 1, 1, 1, 0]\n",
            "[1, 0, 0, 1, 0]\n",
            "[1, 1, 0, 1, 1]\n",
            "[0, 1, 0, 0, 1]\n",
            "(2, 3)\n"
          ]
        }
      ]
    },
    {
      "cell_type": "code",
      "source": [
        "# Задание task_07_02_04.\n",
        "\n",
        "\"\"\"\n",
        "Ошибки (номера строк через пробел, данная строка - №2): 8, 9, 10, 12  \n",
        "\"\"\"\n",
        "\n",
        "\n",
        "def min_pair(nums):\n",
        "    \"\"\"Вернуть минимальную сумму соседних 2-х чисел в списке 'nums'.\"\"\"\n",
        "    min_ = nums[0] + nums[1] #нам нужна сумма 2-х соседних чисел, а не произведение\n",
        "    for i in range(1, len(nums) - 1):  #i-индекс эл-та в списке, поэтому диапазон должен начинаться с 1 (с первого эл-та), а заканчиваться кол-вом эл-тов минус 1, т.к. мы ищем сумму 2 соседних чисел, а значит эл-т с индексом i не должен быть последним в списке, иначе у него не будет пары\n",
        "        min_ = min(nums[i] + nums[i + 1], min_)  #min нельзя использовать в качестве названия, т.к. это зарезервированное слово\n",
        "\n",
        "    return min_\n",
        "\n",
        "import random\n",
        "\n",
        "random.seed(50)\n",
        "\n",
        "N_MAX = 10\n",
        "RANGE_MIN = 1\n",
        "RANGE_MAX = 100\n",
        "nums = random.sample(range(RANGE_MIN, RANGE_MAX), N_MAX)\n",
        "\n",
        "print(nums)\n",
        "\n",
        "print(min_pair(nums))"
      ],
      "metadata": {
        "id": "33RaIwa_sy9p",
        "outputId": "1a110ce9-a0a5-4922-c6b9-1a439f249118",
        "colab": {
          "base_uri": "https://localhost:8080/"
        }
      },
      "execution_count": null,
      "outputs": [
        {
          "output_type": "stream",
          "name": "stdout",
          "text": [
            "[64, 35, 47, 82, 32, 89, 61, 99, 43, 11]\n",
            "54\n"
          ]
        }
      ]
    },
    {
      "cell_type": "code",
      "source": [
        "from ctypes import resize\n",
        "# Задание task_07_02_05.\n",
        "\n",
        "\"\"\"\n",
        "Ошибки (номера строк через пробел, данная строка - №2): 9, 10, 12, 16\n",
        "\"\"\"\n",
        "\n",
        "\n",
        "def non_negatives(nums):\n",
        "    \"\"\"Удалить из списка чисел 'nums' отрицательные элементы и вернуть\n",
        "    измененный список.\"\"\"\n",
        "    res = nums.copy()  #т.к. nums - параметр\n",
        "    for i in list(res):\n",
        "        if i < 0:\n",
        "            res.remove(i)  #функция del не подходит, т.к. для ее использования нам надо знать индекс отрицательного числа\n",
        "\n",
        "    return res\n",
        "\n",
        "import random\n",
        "\n",
        "n = 10\n",
        "nums = [round(random.uniform(-10, 10), 2) for i in range(n)]\n",
        "print(nums)\n",
        "\n",
        "print(non_negatives(nums))"
      ],
      "metadata": {
        "id": "wi7-i_aWCk9A",
        "outputId": "b16fbc8a-1aea-48a4-dc36-1eb60dc63eb0",
        "colab": {
          "base_uri": "https://localhost:8080/"
        }
      },
      "execution_count": null,
      "outputs": [
        {
          "output_type": "stream",
          "name": "stdout",
          "text": [
            "[-2.15, 4.56, 5.01, 8.15, -9.15, 8.5, -0.39, -6.78, -2.56, 1.34]\n",
            "[4.56, 5.01, 8.15, 8.5, 1.34]\n"
          ]
        }
      ]
    },
    {
      "cell_type": "markdown",
      "source": [
        "Программы 7.2.6-7.2.11 написаны верно, однако содержат места потенциальных ошибок.\n",
        "\n",
        "Для каждой задачи:\n",
        "\n",
        "найдите потенциальные источники ошибок (укажите номера строк в строке документации);\n",
        "\n",
        "используя конструкцию try добавьте в код обработку соответствующих исключений."
      ],
      "metadata": {
        "id": "PYM8i-mwtl9G"
      }
    },
    {
      "cell_type": "code",
      "source": [
        "# Задание task_07_02_06.\n",
        "\n",
        "\"\"\"\n",
        "Ошибки (номера строк через пробел, данная строка - №2): 11, 13, 14, 15, 18, 23-26\n",
        "\"\"\"\n",
        "\n",
        "\n",
        "def unemployment_rate(unemployed, employed):\n",
        "    \"\"\"Вернуть уровень безработицы (УБ) в долях 1.\n",
        "\n",
        "       Расчет по формуле: УБ = Безработные / (Занятые + Безработные).\n",
        "    \"\"\"\n",
        "    if unemployed >= 0 and employed >= 0 and (unemployed + employed) > 0:\n",
        "      return unemployed / (unemployed + employed)\n",
        "    else:\n",
        "      raise ValueError(\"Невозможно осуществить расчет по формуле\")\n",
        "\n",
        "\n",
        "try:\n",
        "    unemployed = int(input(\"Введите кол-во безработных (чел.): \"))\n",
        "    employed = int(input(\"Введите кол-во занятых (чел.): \"))\n",
        "    rate = unemployment_rate(unemployed, employed)\n",
        "    print(\"Уровень безработицы = {:.1%}\".format(rate))\n",
        "except ValueError as err:\n",
        "    print(\"Ошибка:\", err, \".Проверьте введенные числа.\")\n",
        "except Exception as err:\n",
        "    print(\"Ошибка:\", err)"
      ],
      "metadata": {
        "id": "LD3iddZos6gJ",
        "outputId": "d389f4f0-9140-43e4-d072-85b301952b0b",
        "colab": {
          "base_uri": "https://localhost:8080/"
        }
      },
      "execution_count": null,
      "outputs": [
        {
          "output_type": "stream",
          "name": "stdout",
          "text": [
            "Введите кол-во безработных (чел.): 3\n",
            "Введите кол-во занятых (чел.): 4\n",
            "Уровень безработицы = 42.9%\n"
          ]
        }
      ]
    },
    {
      "cell_type": "code",
      "source": [
        "# Задание task_07_02_07.\n",
        "\n",
        "\"\"\"\n",
        "Ошибки (номера строк через пробел, данная строка - №2): 10, 12, 13, 17, 21-24\n",
        "\"\"\"\n",
        "\n",
        "\n",
        "def power(x, y=2):\n",
        "    \"\"\"Вернуть x^y.\"\"\"\n",
        "    if y == 0:\n",
        "        return 1\n",
        "    elif y > 0:\n",
        "        return x * power(x, y - 1)\n",
        "    else:\n",
        "        raise ValueError(\"Невозможно вернуть x^y \"\n",
        "                         \"введенных чисел.\")\n",
        "\n",
        "\n",
        "try:\n",
        "    x = int(input(\"x=\"))\n",
        "    y = int(input(\"y=\"))\n",
        "    print(power(x, y))\n",
        "except ValueError as err:\n",
        "    print(\"Ошибка:\", err, \"Проверьте введенные числа.\")\n",
        "except Exception as err:\n",
        "    print(\"Ошибка:\", err)"
      ],
      "metadata": {
        "id": "83Q8Q_obyxRQ",
        "outputId": "626c42b0-ce66-433e-a0c7-c949448ee9ea",
        "colab": {
          "base_uri": "https://localhost:8080/"
        }
      },
      "execution_count": null,
      "outputs": [
        {
          "output_type": "stream",
          "name": "stdout",
          "text": [
            "x=2\n",
            "y=-3\n",
            "Ошибка: Невозможно вернуть x^y введенных чисел. Проверьте введенные числа.\n"
          ]
        }
      ]
    },
    {
      "cell_type": "code",
      "source": [
        "# Задание task_07_02_08.\n",
        "\n",
        "\"\"\"\n",
        "Ошибки (номера строк через пробел, данная строка - №2): \n",
        "\"\"\"\n",
        "\n",
        "\n",
        "# Дан список ФИО. Найти наиболее часто встречаемое отчество.\n",
        "# Если отчества нет, человек не учитывается в подсчете.\n",
        "try:\n",
        "  n = int(input(\"Введите кол-во человек: \"))\n",
        "\n",
        "  middle_names = {}\n",
        "  for i in range(n):\n",
        "      fio = input(str(\"Введите ФИО через пробел: \")).split() #добавила тип данных, чтобы при вводе цифр в фио выдавало ошибку\n",
        "      try:\n",
        "        middle_name = fio[2]\n",
        "        middle_names[middle_name] = middle_names.get(middle_name, 0) + 1\n",
        "      except IndexError:\n",
        "        pass\n",
        "  print(sorted(middle_names.items(), key=lambda item: item[1])[-1][0])\n",
        "  print(\"В расчете участвовало человек:\", n)\n",
        "except ValueError as error:\n",
        "  print('ошибка, проверьте исходные данные', error)\n",
        "except IndexError as error:\n",
        "  print('ошибка, проверьте исходные данные', error)\n",
        "except Exception as error:\n",
        "  print('ошибка', error)\n",
        "          "
      ],
      "metadata": {
        "id": "P0LSWV5u2h1_",
        "outputId": "799f62ae-250f-4d57-86d9-c4da4c4daabd",
        "colab": {
          "base_uri": "https://localhost:8080/"
        }
      },
      "execution_count": 5,
      "outputs": [
        {
          "output_type": "stream",
          "name": "stdout",
          "text": [
            "Введите кол-во человек: 3\n",
            "Введите ФИО через пробел: иванов иван иванович\n",
            "Введите ФИО через пробел: перов петр николаевич\n",
            "Введите ФИО через пробел: новиков павел иванович\n",
            "иванович\n",
            "В расчете участвовало человек: 3\n"
          ]
        }
      ]
    }
  ]
}