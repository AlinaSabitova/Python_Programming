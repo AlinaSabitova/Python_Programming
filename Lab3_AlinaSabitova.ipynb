{
  "nbformat": 4,
  "nbformat_minor": 0,
  "metadata": {
    "colab": {
      "provenance": [],
      "include_colab_link": true
    },
    "kernelspec": {
      "name": "python3",
      "display_name": "Python 3"
    },
    "language_info": {
      "name": "python"
    }
  },
  "cells": [
    {
      "cell_type": "markdown",
      "metadata": {
        "id": "view-in-github",
        "colab_type": "text"
      },
      "source": [
        "<a href=\"https://colab.research.google.com/github/AlinaSabitova/Python_Programming/blob/main/Lab3_AlinaSabitova.ipynb\" target=\"_parent\"><img src=\"https://colab.research.google.com/assets/colab-badge.svg\" alt=\"Open In Colab\"/></a>"
      ]
    },
    {
      "cell_type": "markdown",
      "source": [
        "№ 3.2.1\n",
        "\n",
        "Составьте программу, которая запрашивает у пользователя 2 целых числа и выполняет операции:\n",
        "\n",
        "арифметические: +, -, * , / , // , %, **;\n",
        "\n",
        "сравнение: <, <=, >, >=, !=, ==,\n",
        "\n",
        "выводя на экран результат каждого действия. В случае получение вещественного результата, округлите его до 2-х знаков после запятой (используя функцию round())."
      ],
      "metadata": {
        "id": "LryO5BOs2Cou"
      }
    },
    {
      "cell_type": "code",
      "execution_count": null,
      "metadata": {
        "id": "QU99Z_hP5ntA"
      },
      "outputs": [],
      "source": [
        "# Задание task_03_02_01.\n",
        "\n",
        "# Выполнил: Сабитова А.Б.\n",
        "# Группа: Адеу-221\n",
        "# E-mail: alisab1105@yandex.ru\n",
        "\n",
        "\n",
        "a = int(input(\"a=\"))\n",
        "b = int(input(\"b=\"))\n",
        "\n",
        "print(a + b)\n",
        "print(# Удалите комментарий и допишите код)\n",
        "# Удалите комментарий и допишите код для прочих операций\n",
        "\n",
        "print(a < b)\n",
        "print(# Удалите комментарий и допишите код)\n",
        "# Удалите комментарий и допишите код для прочих операций\n",
        "\n",
        "\n",
        "# --------------\n",
        "# Пример вывода:\n",
        "#\n",
        "# a=2\n",
        "# b=3\n",
        "# 5\n",
        "# -1\n",
        "# 6\n",
        "# 0.67\n",
        "# 0\n",
        "# 2\n",
        "# 8\n",
        "# True\n",
        "# True\n",
        "# False\n",
        "# False\n",
        "# True\n",
        "# False\n"
      ]
    },
    {
      "cell_type": "code",
      "source": [
        "a = int(input(\"a=\"))\n",
        "b = int(input(\"b=\"))\n",
        "\n",
        "print(a + b)\n",
        "print(a - b)\n",
        "print(a * b)\n",
        "print(round(a / b))\n",
        "print(a // b)\n",
        "print(a % b)\n",
        "print(a ** b)\n",
        "print(a < b)\n",
        "print(a <= b)\n",
        "print(a > b)\n",
        "print(a >= b)\n",
        "print(a != b)\n",
        "print(a == b)"
      ],
      "metadata": {
        "colab": {
          "base_uri": "https://localhost:8080/"
        },
        "id": "5K3KbIlA7noX",
        "outputId": "e90e0ea6-33ab-4af9-c0d9-6b5b485dfc28"
      },
      "execution_count": null,
      "outputs": [
        {
          "output_type": "stream",
          "name": "stdout",
          "text": [
            "a=2\n",
            "b=3\n",
            "5\n",
            "-1\n",
            "6\n",
            "1\n",
            "0\n",
            "2\n",
            "8\n",
            "True\n",
            "True\n",
            "False\n",
            "False\n",
            "True\n",
            "False\n"
          ]
        }
      ]
    },
    {
      "cell_type": "markdown",
      "source": [
        "№ 3.2.2\n",
        "\n",
        "Вычислите значение следующего выражения (аргументы - целые числа и вводятся с клавиатуры):\n",
        "![image.png](data:image/png;base64,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)\n",
        "Округлите результат до 3-х знаков после запятой, используя функцию round()."
      ],
      "metadata": {
        "id": "mZDgFZ5i3E1m"
      }
    },
    {
      "cell_type": "code",
      "source": [
        "# Задание task_03_02_02.\n",
        "#\n",
        "# Выполнил: Сабитова А.Б.\n",
        "# Группа: Адэу-221\n",
        "# E-mail: alisab1105@yandex.ru\n",
        "\n",
        "\n",
        "x = int(input(\"x=\"))\n",
        "y = int(input(\"y=\"))\n",
        "z = int(input(\"z=\"))\n",
        "\n",
        "t1=x**5+7\n",
        "t2=abs(-6)*y\n",
        "t3=7 - (z%y)\n",
        "t4=(t1/t2)**1/3\n",
        "t5=t4/t3\n",
        "\n",
        "print(round(t5,2))\n",
        "\n",
        "res1 = ((x**5+7)/(abs(-6)*y))**(1/3)\n",
        "res2 = 7 - (z%y)\n",
        "res = res1/res2\n",
        "print(round(res,2)) \n",
        "\n",
        "# Удалите комментарий и допишите код\n",
        "\n",
        "\n",
        "# --------------\n",
        "# Пример вывода:\n",
        "#\n",
        "# x=0\n",
        "# y=1\n",
        "# z=2\n",
        "# 0.15\n"
      ],
      "metadata": {
        "id": "onzHTKqhAfsX"
      },
      "execution_count": null,
      "outputs": []
    },
    {
      "cell_type": "code",
      "source": [
        "x = int(input(\"x=\"))\n",
        "y = int(input(\"y=\"))\n",
        "z = int(input(\"z=\"))\n",
        "\n",
        "t1=x**5+7\n",
        "t2=abs(-6)*y\n",
        "t3=7 - (z%y)\n",
        "t4=(t1/t2)**1/3\n",
        "t5=t4/t3\n",
        "\n",
        "print(round(t5,2))\n",
        "\n",
        "res1 = ((x**5+7)/(abs(-6)*y))**(1/3)\n",
        "res2 = 7 - (z%y)\n",
        "res = res1/res2\n",
        "print(round(res,2)) "
      ],
      "metadata": {
        "colab": {
          "base_uri": "https://localhost:8080/"
        },
        "id": "rETXnY6eBD4O",
        "outputId": "73dc40fd-9444-4620-d6aa-5057014f0163"
      },
      "execution_count": null,
      "outputs": [
        {
          "output_type": "stream",
          "name": "stdout",
          "text": [
            "x=0\n",
            "y=1\n",
            "z=2\n",
            "0.06\n",
            "0.15\n"
          ]
        }
      ]
    },
    {
      "cell_type": "markdown",
      "source": [
        "№ 3.2.3\n",
        "\n",
        "Дана электрическая цепь, состоящая из 2-х последовательно соединенных проводников (сопротивление каждого известно). Найти общее сопротивление цепи (округление результата необходимо выполнить до 1-го знака после запятой).\n",
        "\n",
        "Решение (начало и общий ход мыслей):\n",
        "\n",
        "Аналитическое решение.\n",
        "\n",
        "Проводники соединены последовательно, поэтому общее сопротивление цепи будет равно сумме их сопротивлений. Сопротивление может быть вещественным числом, поэтому для его хранения необходимо выбрать тип float.\n",
        "\n",
        "Алгоритм.\n",
        "\n",
        "- ввести 2 вещественных значения - сопротивления проводников;\n",
        "- вычислить их сумму;\n",
        "- вывести ответ на экран.\n",
        "Программа."
      ],
      "metadata": {
        "id": "Ei6oDnU5GXSb"
      }
    },
    {
      "cell_type": "code",
      "source": [
        "# Задание task_03_02_03.\n",
        "#\n",
        "# Выполнил: Сабитова А.Б.\n",
        "# Группа: Адеу-221\n",
        "# E-mail: alisab1105@yandex.ru\n",
        "\n",
        "\n",
        "# Сопротивление первого проводника\n",
        "r1 = float(input(\"r1=\"))\n",
        "\n",
        "r2 = float(input(\"r2=\"))\n",
        "\n",
        "# Общее сопротивление\n",
        "r = round(r1+r2,1)\n",
        "\n",
        "print(r)\n",
        "\n",
        "\n",
        "# --------------\n",
        "# Пример вывода:\n",
        "#\n",
        "# r1=12.2\n",
        "# r2=16.1\n",
        "# 28.3\n"
      ],
      "metadata": {
        "id": "cfVK6AScGh0N"
      },
      "execution_count": null,
      "outputs": []
    },
    {
      "cell_type": "code",
      "source": [
        "r1 = float(input(\"r1=\"))\n",
        "\n",
        "r2 = float(input(\"r2=\"))\n",
        "\n",
        "\n",
        "r = round(r1+r2,1)\n",
        "\n",
        "print(r)"
      ],
      "metadata": {
        "colab": {
          "base_uri": "https://localhost:8080/"
        },
        "id": "pXh6RooxHR-e",
        "outputId": "8e8abeee-df8b-4bad-cfee-b01cf352bfc3"
      },
      "execution_count": null,
      "outputs": [
        {
          "output_type": "stream",
          "name": "stdout",
          "text": [
            "r1=12.2\n",
            "r2=16.1\n",
            "28.3\n"
          ]
        }
      ]
    },
    {
      "cell_type": "markdown",
      "source": [
        "№ 3.2.6\n",
        "\n",
        "Дано уравнение ax + b = 0 и отрезок [m;n]. Ответьте на вопрос, попадает ли решение уравнения в указанный отрезок.\n",
        "\n",
        "Решение (начало и общий ход мыслей):\n",
        "\n",
        "Аналитическое решение.\n",
        "\n",
        "Коэффициенты уравнения и величина отрезка - произвольны, возьмем целые числа. Решение x при этом может быть дробным. После определения x составим логическое выражение попадания в отрезок, что и будет ответом.\n",
        "\n",
        "Алгоритм.\n",
        "\n",
        "- ввести все неизвестные величины;\n",
        "- определить корень уравнения;\n",
        "- составить логическое выражение попадания корня в область;\n",
        "- вывести результат попадания на экран.\n",
        "Программа."
      ],
      "metadata": {
        "id": "u2yQxDlMHvts"
      }
    },
    {
      "cell_type": "code",
      "source": [
        "# Задание task_03_02_06.\n",
        "#\n",
        "# Выполнил: Сабитова А.Б.\n",
        "# Группа: Адеу-221\n",
        "# E-mail: alisab1105@yandex.ru\n",
        "\n",
        "\n",
        "a = int (input(\"a=\"))\n",
        "b = int (input(\"b=\"))\n",
        "m = int (input(\"m=\"))\n",
        "n = int (input(\"n=\"))\n",
        "\n",
        "x = (0-b)/a\n",
        "\n",
        "is_ok = bool((x>=m)) and (x<=n)\n",
        "\n",
        "print(\"Попадает:\", is_ok)\n",
        "\n",
        "\n",
        "# --------------\n",
        "# Пример вывода:\n",
        "#\n",
        "# Введите a = 1\n",
        "# Введите b = 2\n",
        "# Введите m = -5\n",
        "# Введите n = 5\n",
        "# Попадает: True\n"
      ],
      "metadata": {
        "id": "wU_qbVlJImJC"
      },
      "execution_count": null,
      "outputs": []
    },
    {
      "cell_type": "code",
      "source": [
        "a = int (input(\"a=\"))\n",
        "b = int (input(\"b=\"))\n",
        "m = int (input(\"m=\"))\n",
        "n = int (input(\"n=\"))\n",
        "\n",
        "x = (0-b)/a\n",
        "\n",
        "is_ok = bool((x>=m) and (x<=n))\n",
        "print(\"Попадает:\", is_ok)"
      ],
      "metadata": {
        "colab": {
          "base_uri": "https://localhost:8080/"
        },
        "id": "6aRymdoFJoQe",
        "outputId": "f80b8d80-3bb3-4474-caff-0cde99fe565a"
      },
      "execution_count": null,
      "outputs": [
        {
          "output_type": "stream",
          "name": "stdout",
          "text": [
            "a=1\n",
            "b=2\n",
            "m=-5\n",
            "n=5\n",
            "Попадает: True\n"
          ]
        }
      ]
    },
    {
      "cell_type": "markdown",
      "source": [
        "№ 3.2.7\n",
        "\n",
        "Составьте программу, которая запрашивает название футбольной команды и повторяет его на экране со словами\n",
        "\n",
        "... - чемпион!\n",
        "После этого выполните:\n",
        "\n",
        "используя операцию дублирования, нарисуйте черту (набор \"-\"), длиной, равной размеру названия команды;\n",
        "\n",
        "преобразуйте строку в нижний регистр и выведите на экран:\n",
        "\n",
        "длину наименования команды;\n",
        "\n",
        "есть ли в наименовании команды буква \"п\" (True/False)?\n",
        "\n",
        "сколько раз повторяется буква \"а\"?"
      ],
      "metadata": {
        "id": "i6shA-R3KLeS"
      }
    },
    {
      "cell_type": "code",
      "source": [
        "# Задание task_03_02_07.\n",
        "#\n",
        "# Выполнил: Сабитова А.Б.\n",
        "# Группа: Адеу-221\n",
        "# E-mail: alisab1105@yandex.ru\n",
        "\n",
        "\n",
        "team = input(\"Введите название команды: \")\n",
        "\n",
        "print((team)+\"чемпион!\")\n",
        "\n",
        "print(\"-\"*len(team))\n",
        "\n",
        "\n",
        "team_lowercase =  print(team.lower())\n",
        "print(\"Символов в названии команды:\", len(team))\n",
        "print(\"Буква п есть:\", bool(\"п\" in \"Спартак\"))\n",
        "print(\"Количество букв а:\", team.find(\"а\"))\n",
        "\n",
        "\n",
        "# --------------\n",
        "# Пример вывода:\n",
        "#\n",
        "# Введите название команды: Спартак\n",
        "# Спартак - чемпион!\n",
        "# -------\n",
        "# Символов в названии команды: 7\n",
        "# Буква \"п\" есть: True\n",
        "# Количество букв \"а\": 2\n"
      ],
      "metadata": {
        "id": "_KnHUE29KUwp"
      },
      "execution_count": null,
      "outputs": []
    },
    {
      "cell_type": "code",
      "source": [
        "team = input(\"Введите название команды: \")\n",
        "\n",
        "print((team)+\"чемпион!\")\n",
        "\n",
        "print(\"-\"*len(team))\n",
        "\n",
        "\n",
        "team_lowercase =  print(team.lower())\n",
        "print(\"Символов в названии команды:\", len(team))\n",
        "print(\"Буква п есть:\", bool(\"п\" in \"Спартак\"))\n",
        "print(\"Количество букв а:\", team.find(\"а\"))"
      ],
      "metadata": {
        "colab": {
          "base_uri": "https://localhost:8080/"
        },
        "id": "F9fEBfERL-qU",
        "outputId": "826e54c0-7748-43c0-c3a5-4b77d3903365"
      },
      "execution_count": null,
      "outputs": [
        {
          "output_type": "stream",
          "name": "stdout",
          "text": [
            "Введите название команды: Спартак\n",
            "Спартакчемпион!\n",
            "-------\n",
            "спартак\n",
            "Символов в названии команды: 7\n",
            "Буква п есть: True\n",
            "Количество букв а: 2\n"
          ]
        }
      ]
    },
    {
      "cell_type": "markdown",
      "source": [
        "№ 3.2.4\n",
        "\n",
        "Дано двузначное и трехзначное число. Для каждого выведите на экран сумму и произведение цифр."
      ],
      "metadata": {
        "id": "eE7_CnDnC2o8"
      }
    },
    {
      "cell_type": "code",
      "source": [
        "# Задание task_03_02_04.\n",
        "#\n",
        "# Выполнил: Сабитова А.Б.\n",
        "# Группа: Адеу-221\n",
        "# E-mail: alisab1105@yandex.ru\n",
        "\n",
        "\n",
        "# Двузначное число\n",
        "num2 = int(input(\"num2=\"))\n",
        "# Трехзначное число\n",
        "num3 = int(input(\"num3=\"))\n",
        "\n",
        "# 1-я цифра числа 'num2'\n",
        "num2_1 = (num2//10)\n",
        "# 2-я цифра числа 'num2'\n",
        "num2_2 = (num2%10)\n",
        "\n",
        "# Сумма цифр числа 'num2'\n",
        "num2_s = print(num2_1 + num2_2)\n",
        "# Произведение цифр числа 'num2'\n",
        "num2_p = print(num2_1 * num2_2)\n",
        "\n",
        "# 1-я цифра числа 'num3'\n",
        "num3_1 = (num3//100)\n",
        "# 2-я цифра числа 'num3'\n",
        "num3_2 = ((num3%100)//10)\n",
        "# 3-я цифра числа 'num3'\n",
        "num3_3 = (num3%10)\n",
        "\n",
        "# Сумма цифр числа 'num3'\n",
        "num3_s = print(num3_1 + num3_2 + num3_3)\n",
        "# Произведение цифр числа 'num3'\n",
        "num3_p = print(num3_1 * num3_2 * num3_3)\n",
        "\n",
        "# Вывод результата\n",
        "print(\"Получившиеся сумма и произведение цифр первого числа:\"num2_s, num2_p)\n",
        "print(\"получившиеся сумма и произведение цифр второго чиса:\"num3_s, num3_p)\n",
        "\n",
        "\n",
        "# --------------\n",
        "# Пример вывода:\n",
        "#\n",
        "# Двузначное число: 45\n",
        "# Трехзначное число: 456\n",
        "# Сумма и произведение цифр двузначного числа: 9 20\n",
        "# Сумма и произведение цифр трехзначного числа: 15 120\n"
      ],
      "metadata": {
        "id": "HnMQ7zcMDHwj"
      },
      "execution_count": null,
      "outputs": []
    },
    {
      "cell_type": "code",
      "source": [
        "num2 = int(input(\"num2=\"))\n",
        "num3 = int(input(\"num3=\"))\n",
        "num2_1 = (num2//10)\n",
        "num2_2 = (num2%10)\n",
        "num2_s = (num2_1 + num2_2)\n",
        "num2_p = (num2_1 * num2_2)\n",
        "num3_1 = (num3//100)\n",
        "num3_2 = ((num3%100)//10)\n",
        "num3_3 = (num3%10)\n",
        "num3_s = (num3_1 + num3_2 + num3_3)\n",
        "num3_p = (num3_1 * num3_2 * num3_3)\n",
        "print(num2_s)\n",
        "print(num2_p)\n",
        "print(num3_s)\n",
        "print(num3_p)"
      ],
      "metadata": {
        "colab": {
          "base_uri": "https://localhost:8080/"
        },
        "id": "KPEQrYUHIKrU",
        "outputId": "5771a043-d4c3-4809-9044-686bd7fae546"
      },
      "execution_count": null,
      "outputs": [
        {
          "output_type": "stream",
          "name": "stdout",
          "text": [
            "num2=45\n",
            "num3=456\n",
            "9\n",
            "20\n",
            "15\n",
            "120\n"
          ]
        }
      ]
    },
    {
      "cell_type": "markdown",
      "source": [
        "№ 3.2.8\n",
        "\n",
        "Составьте программу, которая запрашивает название государства и его столицы, а затем выводит сообщение:\n",
        "\n",
        "Государство - ..., столица - ...\n",
        "На месте многоточий должны быть выведены соответствующие значения."
      ],
      "metadata": {
        "id": "GcLa1gzVPVSY"
      }
    },
    {
      "cell_type": "code",
      "source": [
        "# Задание task_03_02_08.\n",
        "#\n",
        "# Выполнил: Сабитова А.Б.\n",
        "# Группа: Адеу-221\n",
        "# E-mail: alisab1105@yandex.ru\n",
        "\n",
        "\n",
        "# Название государства\n",
        "country = input()\n",
        "# Название столицы\n",
        "capital = input()\n",
        "a3 = \"Государство-\"\n",
        "a4 = \"Столица-\"\n",
        "a5 = \"{}{}, {}{}\".format(a3, country, a4, capital)\n",
        "print(a5)\n",
        "\n",
        "\n",
        "# --------------\n",
        "# Пример вывода:\n",
        "#\n",
        "# Введите название государства: Россия\n",
        "# Введите название столицы: Москва\n",
        "# Государство - Россия, столица - Москва"
      ],
      "metadata": {
        "id": "AmRALXBdPb1Q"
      },
      "execution_count": null,
      "outputs": []
    },
    {
      "cell_type": "code",
      "source": [
        "country = input()\n",
        "capital = input()\n",
        "a3 = \"Государство-\"\n",
        "a4 = \"Столица-\"\n",
        "a5 = \"{}{}, {}{}\".format(a3, country, a4, capital)\n",
        "print(a5)"
      ],
      "metadata": {
        "colab": {
          "base_uri": "https://localhost:8080/"
        },
        "id": "5k4H1GG5R3Nx",
        "outputId": "ccaa08c3-8c8f-44ae-86d4-dd64f7080670"
      },
      "execution_count": null,
      "outputs": [
        {
          "output_type": "stream",
          "name": "stdout",
          "text": [
            "Россия\n",
            "Москва\n",
            "Государство-Россия, Столица-Москва\n"
          ]
        }
      ]
    },
    {
      "cell_type": "markdown",
      "source": [
        "№ 3.2.9\n",
        "\n",
        "Дано слово объектно-ориентированный. Используя индексацию и срезы составьте из него слова объект, ориентир, тир, кот, рента и выведите их на экран."
      ],
      "metadata": {
        "id": "wnPswMNFTjUu"
      }
    },
    {
      "cell_type": "code",
      "source": [
        "# Задание task_03_02_09.\n",
        "#\n",
        "# Выполнил: Сабитова А.Б.\n",
        "# Группа: Адеу-221\n",
        "# E-mail: alisab1105@yandex.ru\n",
        "\n",
        "\n",
        "word = \"объектно-ориентированный\"\n",
        "\n",
        "w1 = word[:6]  # (слово объект)\n",
        "w2 = word[9:17] (слово ориентир)\n",
        "w3 = word[14:17] (слово тир)\n",
        "w4 = word[4] + word[7] + word[5] (слово кот)\n",
        "w5 = word[10] + word[12:15] + word[19] (слово рента)\n",
        "\n",
        "print(w1, w2, w3, w4, w5, sep=\"\\n\")\n",
        "\n",
        "\n",
        "# --------------\n",
        "# Пример вывода:\n",
        "#\n",
        "# объект\n",
        "# ориентир\n",
        "# тир\n",
        "# кот\n",
        "# рента"
      ],
      "metadata": {
        "id": "tBUfkICZTrsg"
      },
      "execution_count": null,
      "outputs": []
    },
    {
      "cell_type": "code",
      "source": [
        "word = \"объектно-ориентированный\"\n",
        "\n",
        "w1 = word[:6]  # (слово объект)\n",
        "w2 = word[9:17] # (слово ориентир)\n",
        "w3 = word[14:17] # (слово тир)\n",
        "w4 = word[4] + word[7] + word[5] # (слово кот)\n",
        "w5 = word[10] + word[12:15] + word[19] # (слово рента)\n",
        "\n",
        "print(w1, w2, w3, w4, w5, sep=\"\\n\")"
      ],
      "metadata": {
        "colab": {
          "base_uri": "https://localhost:8080/"
        },
        "id": "Q0uqPawoWaNG",
        "outputId": "d72398cf-5d4e-4d00-ed41-5da1513521d1"
      },
      "execution_count": null,
      "outputs": [
        {
          "output_type": "stream",
          "name": "stdout",
          "text": [
            "объект\n",
            "ориентир\n",
            "тир\n",
            "кот\n",
            "рента\n"
          ]
        }
      ]
    }
  ]
}